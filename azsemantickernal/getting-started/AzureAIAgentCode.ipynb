{
 "cells": [
  {
   "cell_type": "code",
   "execution_count": null,
   "id": "0da0194c",
   "metadata": {},
   "outputs": [],
   "source": [
    "from semantic_kernel.agents.azure_ai.azure_ai_agent import AzureAIAgent\n",
    "\n",
    "\n",
    "project_client =  # Placeholder for the project client, to be initialized later\n",
    "\n",
    "AzureAIAgent.create_client()\n"
   ]
  }
 ],
 "metadata": {
  "kernelspec": {
   "display_name": "venv",
   "language": "python",
   "name": "python3"
  },
  "language_info": {
   "name": "python",
   "version": "3.13.2"
  }
 },
 "nbformat": 4,
 "nbformat_minor": 5
}
